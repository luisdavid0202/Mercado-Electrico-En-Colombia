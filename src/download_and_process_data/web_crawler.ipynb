{
 "cells": [
  {
   "cell_type": "code",
   "execution_count": 44,
   "metadata": {},
   "outputs": [],
   "source": [
    "# Standard library imports\n",
    "from time import sleep\n",
    "import os\n",
    "import platform\n",
    "import sys\n",
    "\n",
    "# Third party imports\n",
    "from selenium import webdriver\n",
    "\n",
    "# Local application/library imports\n",
    "import setup"
   ]
  },
  {
   "cell_type": "code",
   "execution_count": 45,
   "metadata": {},
   "outputs": [
    {
     "name": "stdout",
     "output_type": "stream",
     "text": [
      "[INFO] directory /home/santiago/Documentos/Mercado electrico Colombia/download_and_process_data/data already exist...\n"
     ]
    }
   ],
   "source": [
    "parent_dir = os.getcwd()\n",
    "path_to_download_files = os.path.join(parent_dir, setup.DATA_DIRECTORY_NAME)\n",
    "\n",
    "try:\n",
    "    os.makedirs(path_to_download_files)\n",
    "    print(f\"[INFO] Creating directory: {path_to_download_files}...\")\n",
    "except FileExistsError:\n",
    "    print(f\"[INFO] directory {path_to_download_files} already exist...\")\n",
    "    pass"
   ]
  },
  {
   "cell_type": "code",
   "execution_count": 46,
   "metadata": {},
   "outputs": [
    {
     "name": "stdout",
     "output_type": "stream",
     "text": [
      "[INFO] Driver loaded successfully, working on Linux\n"
     ]
    }
   ],
   "source": [
    "if platform.system() == 'Linux':    \n",
    "    chrome_path = setup.CHROME_LINUX_PATH\n",
    "    \n",
    "elif platform.system() == 'Windows':    \n",
    "    chrome_path = setup.CHROME_WINDOWS_PATH\n",
    "    \n",
    "else:    \n",
    "    print(f\"[INFO] Operating system {platform.system()} not supported...\")\n",
    "    sys.exit()\n",
    "\n",
    "print(f\"[INFO] Driver loaded successfully, working on {platform.system()}\")"
   ]
  },
  {
   "cell_type": "code",
   "execution_count": 47,
   "metadata": {},
   "outputs": [],
   "source": [
    "chrome_options = webdriver.ChromeOptions()\n",
    "chrome_options.add_argument(\"--start-maximized\")\n",
    "\n",
    "prefs = {'download.default_directory' : path_to_download_files}\n",
    "chrome_options.add_experimental_option('prefs', prefs)\n",
    "\n",
    "driver = webdriver.Chrome(chrome_path,options=chrome_options)"
   ]
  },
  {
   "cell_type": "code",
   "execution_count": 48,
   "metadata": {},
   "outputs": [
    {
     "name": "stdout",
     "output_type": "stream",
     "text": [
      "[INFO] Loading page: http://www.xm.com.co/Paginas/Mercado-de-energia/precio-promedio-y-energia-transada.aspx...\n"
     ]
    }
   ],
   "source": [
    "driver.get(setup.PAGE)\n",
    "\n",
    "print(f\"[INFO] Loading page: {setup.PAGE}...\")\n",
    "\n",
    "sleep(setup.WAIT_FOR_PAGE)"
   ]
  },
  {
   "cell_type": "code",
   "execution_count": 49,
   "metadata": {},
   "outputs": [],
   "source": [
    "element = driver.find_elements_by_css_selector('td.ms-gb')\n",
    "count_element = 0\n",
    "for elements in element:\n",
    "    count_element += 1\n",
    "    print(f\"[INFO] Clicking elements: {count_element}/{len(element)}...\")\n",
    "    elements.find_element_by_css_selector('a').click()\n",
    "    sleep(setup.WAIT_FOR_CLICK_IN_ELEMENTS)"
   ]
  },
  {
   "cell_type": "code",
   "execution_count": 51,
   "metadata": {
    "collapsed": true,
    "jupyter": {
     "outputs_hidden": true
    }
   },
   "outputs": [
    {
     "name": "stdout",
     "output_type": "stream",
     "text": [
      "[INFO] downloading a file named 'Mayo_2020.xlsx' 1/173\n",
      "[INFO] downloading a file named 'Abril_2020.xlsx' 2/173\n",
      "[INFO] downloading a file named 'Marzo_2020.xlsx' 3/173\n",
      "[INFO] downloading a file named 'Febrero_2020.xlsx' 4/173\n"
     ]
    },
    {
     "ename": "KeyboardInterrupt",
     "evalue": "",
     "output_type": "error",
     "traceback": [
      "\u001b[0;31m---------------------------------------------------------------------------\u001b[0m",
      "\u001b[0;31mKeyboardInterrupt\u001b[0m                         Traceback (most recent call last)",
      "\u001b[0;32m<ipython-input-51-42228c0a5d1f>\u001b[0m in \u001b[0;36m<module>\u001b[0;34m\u001b[0m\n\u001b[1;32m      7\u001b[0m \u001b[0;34m\u001b[0m\u001b[0m\n\u001b[1;32m      8\u001b[0m     \u001b[0;31m# input.find_element_by_css_selector('img').click()\u001b[0m\u001b[0;34m\u001b[0m\u001b[0;34m\u001b[0m\u001b[0;34m\u001b[0m\u001b[0m\n\u001b[0;32m----> 9\u001b[0;31m     \u001b[0msleep\u001b[0m\u001b[0;34m(\u001b[0m\u001b[0msetup\u001b[0m\u001b[0;34m.\u001b[0m\u001b[0mWAIT_FOR_CLICK_IN_INPUTS\u001b[0m\u001b[0;34m)\u001b[0m\u001b[0;34m\u001b[0m\u001b[0;34m\u001b[0m\u001b[0m\n\u001b[0m",
      "\u001b[0;31mKeyboardInterrupt\u001b[0m: "
     ]
    }
   ],
   "source": [
    "inputs = driver.find_elements_by_css_selector('td.ms-vb-icon')\n",
    "count_input = 0\n",
    "for input in inputs:\n",
    "    count_input += 1    \n",
    "    foo = input.find_element_by_css_selector('img').get_attribute('title')    \n",
    "    print(f\"[INFO] downloading a file named '{foo}' {count_input}/{len(inputs)}\")\n",
    "    \n",
    "    # input.find_element_by_css_selector('img').click()\n",
    "    sleep(setup.WAIT_FOR_CLICK_IN_INPUTS)"
   ]
  },
  {
   "cell_type": "code",
   "execution_count": 10,
   "metadata": {},
   "outputs": [],
   "source": [
    "print(f\"Chrome driver will be closed in {setup.WAIT_TO_CLOSE_DRIVER} seconds...\")\n",
    "sleep(setup.WAIT_TO_CLOSE_DRIVER)\n",
    "driver.close()"
   ]
  }
 ],
 "metadata": {
  "kernelspec": {
   "display_name": "dash",
   "language": "python",
   "name": "dash"
  },
  "language_info": {
   "codemirror_mode": {
    "name": "ipython",
    "version": 3
   },
   "file_extension": ".py",
   "mimetype": "text/x-python",
   "name": "python",
   "nbconvert_exporter": "python",
   "pygments_lexer": "ipython3",
   "version": "3.8.3"
  }
 },
 "nbformat": 4,
 "nbformat_minor": 4
}
